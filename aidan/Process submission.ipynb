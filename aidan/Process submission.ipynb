{
 "cells": [
  {
   "cell_type": "code",
   "execution_count": 2,
   "metadata": {},
   "outputs": [],
   "source": [
    "import pickle \n",
    "import numpy as np"
   ]
  },
  {
   "cell_type": "code",
   "execution_count": 33,
   "metadata": {},
   "outputs": [],
   "source": [
    "with open('/Users/Aidan/tensorflow/LSDA21/aidan/testlabels0-3000.pkl', 'rb') as f:\n",
    "    d1 = pickle.load(f)\n",
    "\n",
    "with open('/Users/Aidan/tensorflow/LSDA21/aidan/testlabels3000-6000.pkl', 'rb') as f:\n",
    "    d2 = pickle.load(f)\n",
    "    \n",
    "with open('/Users/Aidan/tensorflow/LSDA21/aidan/testlabels6000-9000.pkl', 'rb') as f:\n",
    "    d3 = pickle.load(f)\n",
    "\n",
    "with open('/Users/Aidan/tensorflow/LSDA21/aidan/testlabels9000-12704.pkl', 'rb') as f:\n",
    "    d4 = pickle.load(f)\n"
   ]
  },
  {
   "cell_type": "code",
   "execution_count": 34,
   "metadata": {},
   "outputs": [],
   "source": [
    "d ={**d1, **d2, **d3, **d4}"
   ]
  },
  {
   "cell_type": "code",
   "execution_count": 35,
   "metadata": {},
   "outputs": [],
   "source": [
    "submission = []\n",
    "for idx in range(1,12801):\n",
    "    #assign most likely label if data is missing\n",
    "    if str(idx) not in d.keys():\n",
    "        d[str(idx)] = 20\n",
    "for pair in d.items():\n",
    "    submission.append([int(pair[0]), int(pair[1])])"
   ]
  },
  {
   "cell_type": "code",
   "execution_count": 38,
   "metadata": {},
   "outputs": [],
   "source": [
    "np.savetxt(\"/Users/Aidan/Desktop/SP2018/LSDA/CMP/submissions/inceptionsubmission801.csv\", submission, delimiter=\",\", \n",
    "             fmt=('%d, %d'), header='id,predicted')"
   ]
  },
  {
   "cell_type": "code",
   "execution_count": 31,
   "metadata": {},
   "outputs": [],
   "source": []
  },
  {
   "cell_type": "code",
   "execution_count": null,
   "metadata": {},
   "outputs": [],
   "source": []
  },
  {
   "cell_type": "code",
   "execution_count": null,
   "metadata": {},
   "outputs": [],
   "source": [
    "\n",
    "            "
   ]
  },
  {
   "cell_type": "code",
   "execution_count": null,
   "metadata": {
    "collapsed": true
   },
   "outputs": [],
   "source": []
  }
 ],
 "metadata": {
  "kernelspec": {
   "display_name": "Python 3",
   "language": "python",
   "name": "python3"
  },
  "language_info": {
   "codemirror_mode": {
    "name": "ipython",
    "version": 3
   },
   "file_extension": ".py",
   "mimetype": "text/x-python",
   "name": "python",
   "nbconvert_exporter": "python",
   "pygments_lexer": "ipython3",
   "version": "3.6.1"
  }
 },
 "nbformat": 4,
 "nbformat_minor": 2
}
