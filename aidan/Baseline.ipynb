{
 "cells": [
  {
   "cell_type": "code",
   "execution_count": 3,
   "metadata": {},
   "outputs": [
    {
     "name": "stderr",
     "output_type": "stream",
     "text": [
      "/Users/Aidan/anaconda/lib/python3.6/site-packages/h5py/__init__.py:34: FutureWarning: Conversion of the second argument of issubdtype from `float` to `np.floating` is deprecated. In future, it will be treated as `np.float64 == np.dtype(float).type`.\n",
      "  from ._conv import register_converters as _register_converters\n"
     ]
    }
   ],
   "source": [
    "import tensorflow as tf\n",
    "from sklearn.metrics import confusion_matrix\n",
    "import numpy as np\n",
    "import pandas as pd\n",
    "from pandas import DataFrame\n",
    "import matplotlib.pyplot as plt\n",
    "import seaborn as sns\n",
    "import skimage as ski\n",
    "from skimage.feature import hog\n",
    "from sklearn.neighbors import KNeighborsClassifier\n",
    "from sklearn.metrics import accuracy_score\n",
    "import json\n",
    "\n",
    "import time\n",
    "from datetime import timedelta\n",
    "import math\n",
    "\n",
    "import h5py\n",
    "\n",
    "%matplotlib inline"
   ]
  },
  {
   "cell_type": "markdown",
   "metadata": {},
   "source": [
    "## Load Data"
   ]
  },
  {
   "cell_type": "code",
   "execution_count": 4,
   "metadata": {},
   "outputs": [],
   "source": [
    "d_train = h5py.File('./train_m_28/train_2.h5', 'r')\n",
    "d_test = h5py.File('./train_m_28/test_2.h5', 'r')\n",
    "d_val = h5py.File('./train_m_28/validation_1.h5', 'r')"
   ]
  },
  {
   "cell_type": "code",
   "execution_count": 85,
   "metadata": {},
   "outputs": [
    {
     "name": "stdout",
     "output_type": "stream",
     "text": [
      "Training samples:\t192171\n",
      "Test samples:\t\t12479\n",
      "Validation Samples:\t6309\n",
      "6309\n"
     ]
    }
   ],
   "source": [
    "Xtrain = d_train['train']['images']\n",
    "ytrain = d_train['train']['labels']\n",
    "\n",
    "Xtest = d_test['test']['images']\n",
    "\n",
    "Xval = d_val['validation']['images']\n",
    "yval = d_val['validation']['labels']\n",
    "\n",
    "print(\\\n",
    "'Training samples:\\t{}\\n\\\n",
    "Test samples:\\t\\t{}\\n\\\n",
    "Validation Samples:\\t{}'.format(Xtrain.shape[0], Xtest.shape[0], Xval.shape[0]))\n"
   ]
  },
  {
   "cell_type": "markdown",
   "metadata": {},
   "source": [
    "## Preprocess"
   ]
  },
  {
   "cell_type": "code",
   "execution_count": 6,
   "metadata": {},
   "outputs": [
    {
     "data": {
      "text/plain": [
       "<HDF5 dataset \"images\": shape (192171, 784), type \"<f8\">"
      ]
     },
     "execution_count": 6,
     "metadata": {},
     "output_type": "execute_result"
    }
   ],
   "source": [
    "Xtrain"
   ]
  },
  {
   "cell_type": "code",
   "execution_count": 9,
   "metadata": {},
   "outputs": [
    {
     "name": "stderr",
     "output_type": "stream",
     "text": [
      "/Users/Aidan/anaconda/lib/python3.6/site-packages/skimage/feature/_hog.py:119: skimage_deprecation: Default value of `block_norm`==`L1` is deprecated and will be changed to `L2-Hys` in v0.15\n",
      "  'be changed to `L2-Hys` in v0.15', skimage_deprecation)\n"
     ]
    },
    {
     "name": "stdout",
     "output_type": "stream",
     "text": [
      "0\n",
      "10000\n",
      "20000\n",
      "30000\n",
      "40000\n",
      "50000\n",
      "60000\n",
      "70000\n",
      "80000\n",
      "90000\n",
      "100000\n",
      "110000\n",
      "120000\n",
      "130000\n",
      "140000\n",
      "150000\n",
      "160000\n",
      "170000\n",
      "180000\n",
      "190000\n",
      "(192171, 392)\n",
      "0\n",
      "1000\n",
      "2000\n",
      "3000\n",
      "4000\n",
      "5000\n",
      "6000\n",
      "(6309, 392)\n",
      "0\n",
      "1000\n",
      "2000\n",
      "3000\n",
      "4000\n",
      "5000\n",
      "6000\n",
      "7000\n",
      "8000\n",
      "9000\n",
      "10000\n",
      "11000\n",
      "12000\n",
      "(12479, 392)\n"
     ]
    }
   ],
   "source": [
    "Xtrain_new = []\n",
    "Xval_new = []\n",
    "Xtest_new = []\n",
    "\n",
    "for idx, x in enumerate(Xtrain):\n",
    "    x = x.reshape(28,28)\n",
    "    xg = hog(x, orientations=8, pixels_per_cell=(4, 4), \n",
    "             cells_per_block=(1, 1), feature_vector=True)\n",
    "    Xtrain_new.append(xg)\n",
    "    if idx % 10000 == 0:\n",
    "        print(idx)\n",
    "Xtrain_new = np.array(Xtrain_new).astype('float32')\n",
    "print(Xtrain_new.data.shape)\n",
    "\n",
    "\n",
    "for idx, x in enumerate(Xval):\n",
    "    x = x.reshape(28,28)\n",
    "    xg = hog(x, orientations=8, pixels_per_cell=(4, 4),\n",
    "                    cells_per_block=(1, 1), feature_vector=True)\n",
    "    Xval_new.append(xg)\n",
    "    if idx % 1000 == 0:\n",
    "        print(idx)\n",
    "Xval_new = np.array(Xval_new).astype('float32')\n",
    "print(Xval_new.data.shape)\n",
    "\n",
    "for idx, x in enumerate(Xtest):\n",
    "    x = x.reshape(28,28)\n",
    "    xg = hog(x, orientations=8, pixels_per_cell=(4, 4),\n",
    "                    cells_per_block=(1, 1), feature_vector=True)\n",
    "    Xtest_new.append(xg)\n",
    "    if idx % 1000 == 0:\n",
    "        print(idx)\n",
    "Xtest_new = np.array(Xtest_new).astype('float32')\n",
    "print(Xtest_new.data.shape)"
   ]
  },
  {
   "cell_type": "code",
   "execution_count": 10,
   "metadata": {},
   "outputs": [
    {
     "name": "stdout",
     "output_type": "stream",
     "text": [
      "Fitting model....\n"
     ]
    },
    {
     "data": {
      "text/plain": [
       "KNeighborsClassifier(algorithm='kd_tree', leaf_size=30, metric='minkowski',\n",
       "           metric_params=None, n_jobs=1, n_neighbors=10, p=2,\n",
       "           weights='uniform')"
      ]
     },
     "execution_count": 10,
     "metadata": {},
     "output_type": "execute_result"
    }
   ],
   "source": [
    "algorithm = 'kd_tree'\n",
    "n_neighbors = 10\n",
    "\n",
    "print('Fitting model....')\n",
    "model = KNeighborsClassifier(n_neighbors=n_neighbors, algorithm=algorithm)\n",
    "model.fit(Xtrain_new, ytrain)\n"
   ]
  },
  {
   "cell_type": "code",
   "execution_count": 11,
   "metadata": {},
   "outputs": [
    {
     "name": "stdout",
     "output_type": "stream",
     "text": [
      "Computing acc on validation set...\n",
      "Final accuracy: 0.2545569820890791\n"
     ]
    }
   ],
   "source": [
    "# compute accuracy\n",
    "print('Computing acc on validation set...')\n",
    "preds = model.predict(Xval_new)\n",
    "acc = accuracy_score(yval, preds)\n",
    "print(\"Final accuracy: {}\".format(acc))"
   ]
  },
  {
   "cell_type": "code",
   "execution_count": 12,
   "metadata": {},
   "outputs": [],
   "source": [
    "#compute test set labels \n",
    "predicted_test_labels = model.predict(Xtest_new)"
   ]
  },
  {
   "cell_type": "code",
   "execution_count": 81,
   "metadata": {},
   "outputs": [],
   "source": [
    "#convert to ints for submission\n",
    "predicted_test_labels_ints = [int(x) for x in predicted_test_labels]"
   ]
  },
  {
   "cell_type": "code",
   "execution_count": 82,
   "metadata": {},
   "outputs": [
    {
     "name": "stdout",
     "output_type": "stream",
     "text": [
      "12801\n"
     ]
    }
   ],
   "source": [
    "Xs = range(1,12801)\n",
    "Ys = predicted_test_labels_ints\n",
    "#make Ys longer\n",
    "while len(Ys) < 12801:\n",
    "    Ys.append(1)\n",
    "print(len(Ys))\n",
    "XYs = [[x,y] for x,y in zip(Xs,Ys)]\n",
    "#XYs.insert(0, ['id','predicted'])\n",
    "#numpy.savetxt(\"/Users/Aidan/Desktop/submission1.csv\", a, delimiter=\",\")"
   ]
  },
  {
   "cell_type": "code",
   "execution_count": 83,
   "metadata": {},
   "outputs": [],
   "source": [
    "np.savetxt(\"/Users/Aidan/Desktop/submission801.csv\", XYs, delimiter=\",\", \n",
    "            fmt=('%d, %d'), header='id,predicted')\n",
    "#print(Ys[0])"
   ]
  },
  {
   "cell_type": "markdown",
   "metadata": {},
   "source": [
    "## Random vis"
   ]
  },
  {
   "cell_type": "code",
   "execution_count": 84,
   "metadata": {},
   "outputs": [
    {
     "ename": "FileNotFoundError",
     "evalue": "[Errno 2] No such file or directory: './data/test.json'",
     "output_type": "error",
     "traceback": [
      "\u001b[0;31m---------------------------------------------------------------------------\u001b[0m",
      "\u001b[0;31mFileNotFoundError\u001b[0m                         Traceback (most recent call last)",
      "\u001b[0;32m<ipython-input-84-c14819786e6c>\u001b[0m in \u001b[0;36m<module>\u001b[0;34m()\u001b[0m\n\u001b[0;32m----> 1\u001b[0;31m \u001b[0mtest\u001b[0m \u001b[0;34m=\u001b[0m \u001b[0mjson\u001b[0m\u001b[0;34m.\u001b[0m\u001b[0mload\u001b[0m\u001b[0;34m(\u001b[0m\u001b[0mopen\u001b[0m\u001b[0;34m(\u001b[0m\u001b[0;34m'./data/test.json'\u001b[0m\u001b[0;34m)\u001b[0m\u001b[0;34m)\u001b[0m\u001b[0;34m\u001b[0m\u001b[0m\n\u001b[0m\u001b[1;32m      2\u001b[0m \u001b[0mi\u001b[0m \u001b[0;34m=\u001b[0m \u001b[0mnp\u001b[0m\u001b[0;34m.\u001b[0m\u001b[0mrandom\u001b[0m\u001b[0;34m.\u001b[0m\u001b[0mrandint\u001b[0m\u001b[0;34m(\u001b[0m\u001b[0;36m0\u001b[0m\u001b[0;34m,\u001b[0m \u001b[0mhigh\u001b[0m\u001b[0;34m=\u001b[0m\u001b[0;36m100\u001b[0m\u001b[0;34m)\u001b[0m\u001b[0;34m\u001b[0m\u001b[0m\n\u001b[1;32m      3\u001b[0m \u001b[0mprint\u001b[0m\u001b[0;34m(\u001b[0m\u001b[0;34m'Picture # : '\u001b[0m \u001b[0;34m+\u001b[0m \u001b[0mstr\u001b[0m\u001b[0;34m(\u001b[0m\u001b[0mi\u001b[0m\u001b[0;34m)\u001b[0m\u001b[0;34m)\u001b[0m\u001b[0;34m\u001b[0m\u001b[0m\n\u001b[1;32m      4\u001b[0m \u001b[0mp\u001b[0m \u001b[0;34m=\u001b[0m \u001b[0mXtrain\u001b[0m\u001b[0;34m[\u001b[0m\u001b[0mi\u001b[0m\u001b[0;34m]\u001b[0m\u001b[0;34m\u001b[0m\u001b[0m\n\u001b[1;32m      5\u001b[0m \u001b[0mp_plot\u001b[0m \u001b[0;34m=\u001b[0m \u001b[0mplt\u001b[0m\u001b[0;34m.\u001b[0m\u001b[0mimshow\u001b[0m\u001b[0;34m(\u001b[0m\u001b[0mp\u001b[0m\u001b[0;34m)\u001b[0m\u001b[0;34m\u001b[0m\u001b[0m\n",
      "\u001b[0;31mFileNotFoundError\u001b[0m: [Errno 2] No such file or directory: './data/test.json'"
     ]
    }
   ],
   "source": [
    "test = json.load(open('./data/test.json'))\n",
    "i = 1\n",
    "print('Picture # : ' + str(i))\n",
    "p = Xtrain[i]\n",
    "p_plot = plt.imshow(p)\n",
    "#print(len(Xtrain))\n",
    "#print(len(ytrain))\n",
    "print(\"Label is : \" + str(ytrain[i]))\n",
    "print(training['images'][i])\n",
    "print(training['annotations'][i])"
   ]
  },
  {
   "cell_type": "code",
   "execution_count": null,
   "metadata": {},
   "outputs": [],
   "source": []
  }
 ],
 "metadata": {
  "kernelspec": {
   "display_name": "Python 3",
   "language": "python",
   "name": "python3"
  },
  "language_info": {
   "codemirror_mode": {
    "name": "ipython",
    "version": 3
   },
   "file_extension": ".py",
   "mimetype": "text/x-python",
   "name": "python",
   "nbconvert_exporter": "python",
   "pygments_lexer": "ipython3",
   "version": "3.6.1"
  }
 },
 "nbformat": 4,
 "nbformat_minor": 2
}
